{
 "cells": [
  {
   "cell_type": "code",
   "execution_count": 5,
   "metadata": {},
   "outputs": [],
   "source": [
    "import pandas as pd\n",
    "import numpy as np\n",
    "import json\n",
    "from os import listdir\n",
    "from os.path import isfile, join"
   ]
  },
  {
   "cell_type": "code",
   "execution_count": 6,
   "metadata": {},
   "outputs": [],
   "source": [
    "def load_files(filedir):\n",
    "  with open(filedir) as f:\n",
    "    file = json.loads(f.read())\n",
    "    return file"
   ]
  },
  {
   "cell_type": "markdown",
   "metadata": {},
   "source": [
    "# Load Files"
   ]
  },
  {
   "cell_type": "markdown",
   "metadata": {},
   "source": [
    "!git clone https://github.com/marcoramilli/MalwareTrainingSets/"
   ]
  },
  {
   "cell_type": "code",
   "execution_count": 7,
   "metadata": {},
   "outputs": [],
   "source": [
    "mypath='/Users/fernanda/Documents/Hands On Machine Learning for Cybersecurity/Cybersecurity-MachineLearning/MalwareTrainingSets/trainingSets'\n",
    "malwaretype=[\"APT1\",\"Crypto\",\"Locker\",\"Zeus\"]\n",
    "\n",
    "apt1_files=[join(join(mypath,malwaretype[0]),f) for f in listdir(join(mypath,malwaretype[0])) if isfile(join(join(mypath,malwaretype[0]), f))]\n",
    "crypto_files=[join(join(mypath,malwaretype[1]),f) for f in listdir(join(mypath,malwaretype[1])) if isfile(join(join(mypath,malwaretype[1]), f))]\n",
    "locker_files=[join(join(mypath,malwaretype[2]),f) for f in listdir(join(mypath,malwaretype[2])) if isfile(join(join(mypath,malwaretype[2]), f))]\n",
    "zeus_files=[join(join(mypath,malwaretype[3]),f) for f in listdir(join(mypath,malwaretype[3])) if isfile(join(join(mypath,malwaretype[3]), f))]\n",
    "\n",
    "apt1_files = [load_files(filedir=name) for name in apt1_files]\n",
    "crypto_files = [load_files(filedir=name) for name in crypto_files]\n",
    "locker_files = [load_files(filedir=name) for name in locker_files]\n",
    "zeus_files = [load_files(filedir=name) for name in zeus_files]"
   ]
  },
  {
   "cell_type": "code",
   "execution_count": 27,
   "metadata": {},
   "outputs": [
    {
     "name": "stdout",
     "output_type": "stream",
     "text": [
      "dict_keys(['entityId', 'entityType', 'event', 'eventTime', 'properties'])\n",
      "dict_keys(['entityId', 'entityType', 'event', 'eventTime', 'properties'])\n",
      "dict_keys(['entityId', 'entityType', 'event', 'eventTime', 'properties'])\n",
      "dict_keys(['entityId', 'entityType', 'event', 'eventTime', 'properties'])\n",
      "\n",
      "\n",
      "properties apt1 file 0: 22\n",
      "properties crypto file 0: 18\n",
      "properties locker file 0: 17\n",
      "properties zeus file 0: 34\n"
     ]
    }
   ],
   "source": [
    "# archive structure:\n",
    "print(apt1_files[0].keys())\n",
    "print(crypto_files[0].keys())\n",
    "print(locker_files[0].keys())\n",
    "print(zeus_files[0].keys())\n",
    "print(\"\\n\")\n",
    "print('properties apt1 file 0:',len(apt1_files[0]['properties'].keys()))\n",
    "print('properties crypto file 0:',len(crypto_files[0]['properties'].keys()))\n",
    "print('properties locker file 0:',len(locker_files[0]['properties'].keys()))\n",
    "print('properties zeus file 0:',len(zeus_files[0]['properties'].keys()))\n",
    "#each kind of malware has different properties in its files"
   ]
  },
  {
   "cell_type": "code",
   "execution_count": 28,
   "metadata": {},
   "outputs": [
    {
     "name": "stdout",
     "output_type": "stream",
     "text": [
      "common properties: 52\n"
     ]
    }
   ],
   "source": [
    "apt1_prop = []\n",
    "crypto_prop = []\n",
    "locker_prop = []\n",
    "zeus_prop = []\n",
    "\n",
    "for file in apt1_files:\n",
    "  for prop in file['properties']:\n",
    "    if (prop not in apt1_prop):\n",
    "        apt1_prop.append(prop)\n",
    "for file in crypto_files:\n",
    "  for prop in file['properties']:\n",
    "    if (prop not in crypto_prop):\n",
    "        crypto_prop.append(prop)\n",
    "for file in locker_files:\n",
    "  for prop in file['properties']:\n",
    "    if (prop not in locker_prop):\n",
    "        locker_prop.append(prop)\n",
    "for file in zeus_files:\n",
    "  for prop in file['properties']:\n",
    "    if (prop not in zeus_prop):\n",
    "        zeus_prop.append(prop)\n",
    "\n",
    "#check common properties\n",
    "props = []\n",
    "for prop in apt1_prop:\n",
    "  if (prop in crypto_prop and prop in locker_prop and zeus_prop):\n",
    "    props.append(prop)\n",
    "\n",
    "print('common properties:',len(props))"
   ]
  },
  {
   "cell_type": "code",
   "execution_count": 49,
   "metadata": {},
   "outputs": [
    {
     "ename": "KeyError",
     "evalue": "0",
     "output_type": "error",
     "traceback": [
      "\u001b[0;31m---------------------------------------------------------------------------\u001b[0m",
      "\u001b[0;31mKeyError\u001b[0m                                  Traceback (most recent call last)",
      "File \u001b[0;32m~/miniforge3/lib/python3.9/site-packages/pandas/core/indexes/base.py:3621\u001b[0m, in \u001b[0;36mIndex.get_loc\u001b[0;34m(self, key, method, tolerance)\u001b[0m\n\u001b[1;32m   3620\u001b[0m \u001b[39mtry\u001b[39;00m:\n\u001b[0;32m-> 3621\u001b[0m     \u001b[39mreturn\u001b[39;00m \u001b[39mself\u001b[39;49m\u001b[39m.\u001b[39;49m_engine\u001b[39m.\u001b[39;49mget_loc(casted_key)\n\u001b[1;32m   3622\u001b[0m \u001b[39mexcept\u001b[39;00m \u001b[39mKeyError\u001b[39;00m \u001b[39mas\u001b[39;00m err:\n",
      "File \u001b[0;32mpandas/_libs/index.pyx:136\u001b[0m, in \u001b[0;36mpandas._libs.index.IndexEngine.get_loc\u001b[0;34m()\u001b[0m\n",
      "File \u001b[0;32mpandas/_libs/index.pyx:163\u001b[0m, in \u001b[0;36mpandas._libs.index.IndexEngine.get_loc\u001b[0;34m()\u001b[0m\n",
      "File \u001b[0;32mpandas/_libs/hashtable_class_helper.pxi:5198\u001b[0m, in \u001b[0;36mpandas._libs.hashtable.PyObjectHashTable.get_item\u001b[0;34m()\u001b[0m\n",
      "File \u001b[0;32mpandas/_libs/hashtable_class_helper.pxi:5206\u001b[0m, in \u001b[0;36mpandas._libs.hashtable.PyObjectHashTable.get_item\u001b[0;34m()\u001b[0m\n",
      "\u001b[0;31mKeyError\u001b[0m: 0",
      "\nThe above exception was the direct cause of the following exception:\n",
      "\u001b[0;31mKeyError\u001b[0m                                  Traceback (most recent call last)",
      "\u001b[1;32m/Users/fernanda/Documents/Hands On Machine Learning for Cybersecurity/Cybersecurity-MachineLearning/notebook.ipynb Cell 8\u001b[0m in \u001b[0;36m<cell line: 6>\u001b[0;34m()\u001b[0m\n\u001b[1;32m      <a href='vscode-notebook-cell:/Users/fernanda/Documents/Hands%20On%20Machine%20Learning%20for%20Cybersecurity/Cybersecurity-MachineLearning/notebook.ipynb#ch0000011?line=1'>2</a>\u001b[0m df\u001b[39m=\u001b[39mpd\u001b[39m.\u001b[39mDataFrame(columns\u001b[39m=\u001b[39mprops)\n\u001b[1;32m      <a href='vscode-notebook-cell:/Users/fernanda/Documents/Hands%20On%20Machine%20Learning%20for%20Cybersecurity/Cybersecurity-MachineLearning/notebook.ipynb#ch0000011?line=2'>3</a>\u001b[0m \u001b[39m# for f in apt1_files:\u001b[39;00m\n\u001b[1;32m      <a href='vscode-notebook-cell:/Users/fernanda/Documents/Hands%20On%20Machine%20Learning%20for%20Cybersecurity/Cybersecurity-MachineLearning/notebook.ipynb#ch0000011?line=3'>4</a>\u001b[0m \u001b[39m#     for i,prop in enumerate(props):\u001b[39;00m\n\u001b[0;32m----> <a href='vscode-notebook-cell:/Users/fernanda/Documents/Hands%20On%20Machine%20Learning%20for%20Cybersecurity/Cybersecurity-MachineLearning/notebook.ipynb#ch0000011?line=5'>6</a>\u001b[0m df[\u001b[39m0\u001b[39;49m]\u001b[39m.\u001b[39mappend(apt1_files[\u001b[39m0\u001b[39m][\u001b[39m'\u001b[39m\u001b[39mproperties\u001b[39m\u001b[39m'\u001b[39m]\u001b[39m.\u001b[39mget(props[\u001b[39m0\u001b[39m]))\n",
      "File \u001b[0;32m~/miniforge3/lib/python3.9/site-packages/pandas/core/frame.py:3505\u001b[0m, in \u001b[0;36mDataFrame.__getitem__\u001b[0;34m(self, key)\u001b[0m\n\u001b[1;32m   3503\u001b[0m \u001b[39mif\u001b[39;00m \u001b[39mself\u001b[39m\u001b[39m.\u001b[39mcolumns\u001b[39m.\u001b[39mnlevels \u001b[39m>\u001b[39m \u001b[39m1\u001b[39m:\n\u001b[1;32m   3504\u001b[0m     \u001b[39mreturn\u001b[39;00m \u001b[39mself\u001b[39m\u001b[39m.\u001b[39m_getitem_multilevel(key)\n\u001b[0;32m-> 3505\u001b[0m indexer \u001b[39m=\u001b[39m \u001b[39mself\u001b[39;49m\u001b[39m.\u001b[39;49mcolumns\u001b[39m.\u001b[39;49mget_loc(key)\n\u001b[1;32m   3506\u001b[0m \u001b[39mif\u001b[39;00m is_integer(indexer):\n\u001b[1;32m   3507\u001b[0m     indexer \u001b[39m=\u001b[39m [indexer]\n",
      "File \u001b[0;32m~/miniforge3/lib/python3.9/site-packages/pandas/core/indexes/base.py:3623\u001b[0m, in \u001b[0;36mIndex.get_loc\u001b[0;34m(self, key, method, tolerance)\u001b[0m\n\u001b[1;32m   3621\u001b[0m     \u001b[39mreturn\u001b[39;00m \u001b[39mself\u001b[39m\u001b[39m.\u001b[39m_engine\u001b[39m.\u001b[39mget_loc(casted_key)\n\u001b[1;32m   3622\u001b[0m \u001b[39mexcept\u001b[39;00m \u001b[39mKeyError\u001b[39;00m \u001b[39mas\u001b[39;00m err:\n\u001b[0;32m-> 3623\u001b[0m     \u001b[39mraise\u001b[39;00m \u001b[39mKeyError\u001b[39;00m(key) \u001b[39mfrom\u001b[39;00m \u001b[39merr\u001b[39;00m\n\u001b[1;32m   3624\u001b[0m \u001b[39mexcept\u001b[39;00m \u001b[39mTypeError\u001b[39;00m:\n\u001b[1;32m   3625\u001b[0m     \u001b[39m# If we have a listlike key, _check_indexing_error will raise\u001b[39;00m\n\u001b[1;32m   3626\u001b[0m     \u001b[39m#  InvalidIndexError. Otherwise we fall through and re-raise\u001b[39;00m\n\u001b[1;32m   3627\u001b[0m     \u001b[39m#  the TypeError.\u001b[39;00m\n\u001b[1;32m   3628\u001b[0m     \u001b[39mself\u001b[39m\u001b[39m.\u001b[39m_check_indexing_error(key)\n",
      "\u001b[0;31mKeyError\u001b[0m: 0"
     ]
    }
   ],
   "source": [
    "## create dataset\n",
    "df=pd.DataFrame(columns=props)\n",
    "# for f in apt1_files:\n",
    "#     for i,prop in enumerate(props):\n",
    "        \n",
    "df[0].append(apt1_files[0]['properties'].get(props[0]))"
   ]
  }
 ],
 "metadata": {
  "kernelspec": {
   "display_name": "Python 3.9.10 ('base')",
   "language": "python",
   "name": "python3"
  },
  "language_info": {
   "codemirror_mode": {
    "name": "ipython",
    "version": 3
   },
   "file_extension": ".py",
   "mimetype": "text/x-python",
   "name": "python",
   "nbconvert_exporter": "python",
   "pygments_lexer": "ipython3",
   "version": "3.9.10"
  },
  "orig_nbformat": 4,
  "vscode": {
   "interpreter": {
    "hash": "fcfdf0b1533fe1f22d2322fd23af005881bce7ec47ac9289ddab3a24b5059cd8"
   }
  }
 },
 "nbformat": 4,
 "nbformat_minor": 2
}
